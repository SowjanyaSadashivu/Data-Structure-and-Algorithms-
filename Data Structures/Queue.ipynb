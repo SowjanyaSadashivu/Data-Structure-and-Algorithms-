{
 "cells": [
  {
   "cell_type": "markdown",
   "metadata": {},
   "source": [
    "##### Using lists for Queue with insert()"
   ]
  },
  {
   "cell_type": "code",
   "execution_count": 1,
   "metadata": {},
   "outputs": [
    {
     "name": "stdout",
     "output_type": "stream",
     "text": [
      "[23, 28, 67, 45, 12]\n"
     ]
    }
   ],
   "source": [
    "stock_price = []\n",
    "\n",
    "stock_price.insert(0, 12)\n",
    "stock_price.insert(0, 45)\n",
    "stock_price.insert(0, 67)\n",
    "stock_price.insert(0, 28)\n",
    "stock_price.insert(0, 23)\n",
    "print(stock_price)"
   ]
  },
  {
   "cell_type": "markdown",
   "metadata": {},
   "source": [
    "##### by indicating the position to 0, we are pushing the values into list as Queue."
   ]
  },
  {
   "cell_type": "code",
   "execution_count": 2,
   "metadata": {},
   "outputs": [
    {
     "name": "stdout",
     "output_type": "stream",
     "text": [
      "[23, 28, 67, 45]\n"
     ]
    }
   ],
   "source": [
    "# we can use pop() since it returns last element in the list\n",
    "\n",
    "stock_price.pop()\n",
    "print(stock_price)"
   ]
  },
  {
   "cell_type": "code",
   "execution_count": 3,
   "metadata": {},
   "outputs": [
    {
     "name": "stdout",
     "output_type": "stream",
     "text": [
      "[23, 28, 67]\n"
     ]
    }
   ],
   "source": [
    "stock_price.pop()\n",
    "print(stock_price)"
   ]
  },
  {
   "cell_type": "code",
   "execution_count": 5,
   "metadata": {},
   "outputs": [
    {
     "ename": "IndexError",
     "evalue": "pop from empty list",
     "output_type": "error",
     "traceback": [
      "\u001b[0;31m---------------------------------------------------------------------------\u001b[0m",
      "\u001b[0;31mIndexError\u001b[0m                                Traceback (most recent call last)",
      "\u001b[1;32m/Users/sowjanyasadashiva/Desktop/DSA/DataStructures/Queue.ipynb Cell 6\u001b[0m line \u001b[0;36m1\n\u001b[0;32m----> <a href='vscode-notebook-cell:/Users/sowjanyasadashiva/Desktop/DSA/DataStructures/Queue.ipynb#W4sZmlsZQ%3D%3D?line=0'>1</a>\u001b[0m stock_price\u001b[39m.\u001b[39;49mpop()\n\u001b[1;32m      <a href='vscode-notebook-cell:/Users/sowjanyasadashiva/Desktop/DSA/DataStructures/Queue.ipynb#W4sZmlsZQ%3D%3D?line=1'>2</a>\u001b[0m stock_price\u001b[39m.\u001b[39mpop()\n\u001b[1;32m      <a href='vscode-notebook-cell:/Users/sowjanyasadashiva/Desktop/DSA/DataStructures/Queue.ipynb#W4sZmlsZQ%3D%3D?line=2'>3</a>\u001b[0m stock_price\u001b[39m.\u001b[39mpop()\n",
      "\u001b[0;31mIndexError\u001b[0m: pop from empty list"
     ]
    }
   ],
   "source": [
    "stock_price.pop()\n",
    "stock_price.pop()\n",
    "stock_price.pop()\n",
    "stock_price.pop()"
   ]
  },
  {
   "cell_type": "markdown",
   "metadata": {},
   "source": [
    "* when the list is empty it gives us an error. it's the problem with dynamic array.\n",
    "* List id not recommended for Queue\n",
    "* we can use deque() from collections."
   ]
  },
  {
   "cell_type": "code",
   "execution_count": 6,
   "metadata": {},
   "outputs": [],
   "source": [
    "from collections import deque\n",
    "\n",
    "queue = deque()"
   ]
  },
  {
   "cell_type": "code",
   "execution_count": 7,
   "metadata": {},
   "outputs": [
    {
     "data": {
      "text/plain": [
       "['__add__',\n",
       " '__class__',\n",
       " '__class_getitem__',\n",
       " '__contains__',\n",
       " '__copy__',\n",
       " '__delattr__',\n",
       " '__delitem__',\n",
       " '__dir__',\n",
       " '__doc__',\n",
       " '__eq__',\n",
       " '__format__',\n",
       " '__ge__',\n",
       " '__getattribute__',\n",
       " '__getitem__',\n",
       " '__getstate__',\n",
       " '__gt__',\n",
       " '__hash__',\n",
       " '__iadd__',\n",
       " '__imul__',\n",
       " '__init__',\n",
       " '__init_subclass__',\n",
       " '__iter__',\n",
       " '__le__',\n",
       " '__len__',\n",
       " '__lt__',\n",
       " '__mul__',\n",
       " '__ne__',\n",
       " '__new__',\n",
       " '__reduce__',\n",
       " '__reduce_ex__',\n",
       " '__repr__',\n",
       " '__reversed__',\n",
       " '__rmul__',\n",
       " '__setattr__',\n",
       " '__setitem__',\n",
       " '__sizeof__',\n",
       " '__str__',\n",
       " '__subclasshook__',\n",
       " 'append',\n",
       " 'appendleft',\n",
       " 'clear',\n",
       " 'copy',\n",
       " 'count',\n",
       " 'extend',\n",
       " 'extendleft',\n",
       " 'index',\n",
       " 'insert',\n",
       " 'maxlen',\n",
       " 'pop',\n",
       " 'popleft',\n",
       " 'remove',\n",
       " 'reverse',\n",
       " 'rotate']"
      ]
     },
     "execution_count": 7,
     "metadata": {},
     "output_type": "execute_result"
    }
   ],
   "source": [
    "#in stack we used append() to add\n",
    "# in queue we use appendleft()\n",
    "\n",
    "dir(queue)"
   ]
  },
  {
   "cell_type": "code",
   "execution_count": 8,
   "metadata": {},
   "outputs": [
    {
     "data": {
      "text/plain": [
       "deque([35, 23, 12])"
      ]
     },
     "execution_count": 8,
     "metadata": {},
     "output_type": "execute_result"
    }
   ],
   "source": [
    "queue.appendleft(12)\n",
    "queue.appendleft(23)\n",
    "queue.appendleft(35)\n",
    "queue"
   ]
  },
  {
   "cell_type": "code",
   "execution_count": 9,
   "metadata": {},
   "outputs": [
    {
     "data": {
      "text/plain": [
       "12"
      ]
     },
     "execution_count": 9,
     "metadata": {},
     "output_type": "execute_result"
    }
   ],
   "source": [
    "queue.pop()"
   ]
  },
  {
   "cell_type": "markdown",
   "metadata": {},
   "source": [
    "#### creating the class to implement the queue"
   ]
  },
  {
   "cell_type": "code",
   "execution_count": 24,
   "metadata": {},
   "outputs": [],
   "source": [
    "class Queue:\n",
    "    def __init__(self):\n",
    "        self.buffer = deque()\n",
    "        \n",
    "    def add_to_queue(self, data):\n",
    "        self.buffer.appendleft(data)\n",
    "\n",
    "    def remove_from_queue(self):\n",
    "        return self.buffer.pop()\n",
    "\n",
    "    def is_empty(self):\n",
    "        return len(self.buffer) == 0\n",
    "    \n",
    "    def len_of_queue(self):\n",
    "        return len(self.buffer)\n",
    "    \n",
    "    def display_queue(self):\n",
    "        return self.buffer\n",
    "    \n",
    "    def front(self):\n",
    "        return self.buffer[-1]\n",
    "         "
   ]
  },
  {
   "cell_type": "code",
   "execution_count": 11,
   "metadata": {},
   "outputs": [],
   "source": [
    "q = Queue()\n",
    "\n",
    "q.add_to_queue({\n",
    "    'company':'Walmart',\n",
    "    'timestamp':'15 apr, 11.01 AM',\n",
    "    'price': 140.90\n",
    "})\n",
    "q.add_to_queue({\n",
    "    'company':'Walmart',\n",
    "    'timestamp':'15 apr, 11.01 AM',\n",
    "    'price': 140.00\n",
    "})\n",
    "q.add_to_queue({\n",
    "    'company':'Walmart',\n",
    "    'timestamp':'15 apr, 11.01 AM',\n",
    "    'price': 141.00\n",
    "})\n",
    "q.add_to_queue({\n",
    "    'company':'Walmart',\n",
    "    'timestamp':'15 apr, 11.01 AM',\n",
    "    'price': 139.10\n",
    "})"
   ]
  },
  {
   "cell_type": "code",
   "execution_count": 12,
   "metadata": {},
   "outputs": [
    {
     "data": {
      "text/plain": [
       "deque([{'company': 'Walmart', 'timestamp': '15 apr, 11.01 AM', 'price': 139.1},\n",
       "       {'company': 'Walmart', 'timestamp': '15 apr, 11.01 AM', 'price': 141.0},\n",
       "       {'company': 'Walmart', 'timestamp': '15 apr, 11.01 AM', 'price': 140.0},\n",
       "       {'company': 'Walmart',\n",
       "        'timestamp': '15 apr, 11.01 AM',\n",
       "        'price': 140.9}])"
      ]
     },
     "execution_count": 12,
     "metadata": {},
     "output_type": "execute_result"
    }
   ],
   "source": [
    "q.display_queue()"
   ]
  },
  {
   "cell_type": "code",
   "execution_count": 13,
   "metadata": {},
   "outputs": [
    {
     "data": {
      "text/plain": [
       "{'company': 'Walmart', 'timestamp': '15 apr, 11.01 AM', 'price': 140.9}"
      ]
     },
     "execution_count": 13,
     "metadata": {},
     "output_type": "execute_result"
    }
   ],
   "source": [
    "q.remove_from_queue()"
   ]
  },
  {
   "cell_type": "code",
   "execution_count": 14,
   "metadata": {},
   "outputs": [
    {
     "data": {
      "text/plain": [
       "deque([{'company': 'Walmart', 'timestamp': '15 apr, 11.01 AM', 'price': 139.1},\n",
       "       {'company': 'Walmart', 'timestamp': '15 apr, 11.01 AM', 'price': 141.0},\n",
       "       {'company': 'Walmart',\n",
       "        'timestamp': '15 apr, 11.01 AM',\n",
       "        'price': 140.0}])"
      ]
     },
     "execution_count": 14,
     "metadata": {},
     "output_type": "execute_result"
    }
   ],
   "source": [
    "q.display_queue()"
   ]
  },
  {
   "cell_type": "markdown",
   "metadata": {},
   "source": [
    "#### "
   ]
  },
  {
   "cell_type": "markdown",
   "metadata": {},
   "source": [
    "#### Exercise: Queue technique with multithreading\n",
    "\n",
    "Design a food ordering system where your python program will run two threads,\n",
    "<br><br>\n",
    "Place Order: This thread will be placing an order and inserting that into a queue. This thread places new order every 0.5 second. (hint: use time.sleep(0.5) function)<br><br>\n",
    "Serve Order: This thread will server the order. All you need to do is pop the order out of the queue and print it. This thread serves an order every 2 seconds. Also start this thread 1 second after place order thread is started.\n",
    "<br><br>\n",
    "Use Multithreading"
   ]
  },
  {
   "cell_type": "code",
   "execution_count": 19,
   "metadata": {},
   "outputs": [],
   "source": [
    "import time\n",
    "import threading\n",
    "\n",
    "order_queue = Queue()\n",
    "#place order every 0.5 sec\n",
    "def place_order(order):\n",
    "    for o in order:\n",
    "        print(f'Ordering : {o}')\n",
    "        order_queue.add_to_queue(o)\n",
    "        time.sleep(0.5)\n",
    "        #print(f'Now you are in the queue for service: {order_queue.display_queue()}')\n",
    "\n",
    "#serve order every  2 sec\n",
    "def serve_order():\n",
    "    while not order_queue.is_empty():\n",
    "        serving = order_queue.remove_from_queue()\n",
    "        print(f'The order serving now is : {serving}')\n",
    "        time.sleep(2)\n"
   ]
  },
  {
   "cell_type": "code",
   "execution_count": 21,
   "metadata": {},
   "outputs": [
    {
     "name": "stdout",
     "output_type": "stream",
     "text": [
      "Ordering : pizza\n",
      "The order serving now is : pizza\n",
      "Ordering : samosa\n",
      "Ordering : pasta\n",
      "Ordering : biryani\n",
      "The order serving now is : samosa\n",
      "Ordering : burger\n",
      "The order serving now is : pasta\n",
      "The order serving now is : biryani\n",
      "The order serving now is : burger\n"
     ]
    }
   ],
   "source": [
    "orders = ['pizza','samosa','pasta','biryani','burger']\n",
    "t1 = threading.Thread(target=place_order, args=(orders,))\n",
    "t2 = threading.Thread(target=serve_order)\n",
    "\n",
    "t1.start()\n",
    "t2.start()\n",
    "\n",
    "t1.join()\n",
    "t2.join()"
   ]
  },
  {
   "cell_type": "markdown",
   "metadata": {},
   "source": [
    "Write a program to print binary numbers from 1 to 10 using Queue. Use Queue class implemented in main tutorial. Binary sequence should look like,<br>\n",
    "    1<br>\n",
    "    10<br>\n",
    "    11<br>\n",
    "    100<br>\n",
    "    101<br>\n",
    "    110<br>\n",
    "    111<br>\n",
    "    1000<br>\n",
    "    1001<br>\n",
    "    1010<br>\n",
    "    You also need to add front() function in queue class that can return the front element in the queue.<br>"
   ]
  },
  {
   "cell_type": "code",
   "execution_count": 34,
   "metadata": {},
   "outputs": [],
   "source": [
    "q = Queue()\n",
    "\n",
    "def produce_binary_numbers(n):\n",
    "    numbers_queue = Queue()\n",
    "    numbers_queue.add_to_queue(\"1\")\n",
    "\n",
    "    for _ in range(n):\n",
    "        front = numbers_queue.front()\n",
    "        print(\"   \", front)\n",
    "        numbers_queue.add_to_queue(front + \"0\")\n",
    "        numbers_queue.add_to_queue(front + \"1\")\n",
    "\n",
    "        numbers_queue.remove_from_queue()\n"
   ]
  },
  {
   "cell_type": "code",
   "execution_count": 35,
   "metadata": {},
   "outputs": [
    {
     "name": "stdout",
     "output_type": "stream",
     "text": [
      "    1\n",
      "    10\n",
      "    11\n",
      "    100\n",
      "    101\n",
      "    110\n",
      "    111\n",
      "    1000\n",
      "    1001\n",
      "    1010\n"
     ]
    }
   ],
   "source": [
    "produce_binary_numbers(10)"
   ]
  },
  {
   "cell_type": "code",
   "execution_count": null,
   "metadata": {},
   "outputs": [],
   "source": []
  }
 ],
 "metadata": {
  "kernelspec": {
   "display_name": "Python 3",
   "language": "python",
   "name": "python3"
  },
  "language_info": {
   "codemirror_mode": {
    "name": "ipython",
    "version": 3
   },
   "file_extension": ".py",
   "mimetype": "text/x-python",
   "name": "python",
   "nbconvert_exporter": "python",
   "pygments_lexer": "ipython3",
   "version": "3.11.4"
  },
  "orig_nbformat": 4
 },
 "nbformat": 4,
 "nbformat_minor": 2
}
