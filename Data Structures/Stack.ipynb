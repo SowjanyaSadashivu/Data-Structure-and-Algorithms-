{
 "cells": [
  {
   "cell_type": "markdown",
   "metadata": {},
   "source": [
    "#### Stacked"
   ]
  },
  {
   "cell_type": "code",
   "execution_count": 201,
   "metadata": {},
   "outputs": [
    {
     "name": "stdout",
     "output_type": "stream",
     "text": [
      "[1, 2, 3, 3, 4, 8, 10, 12]\n"
     ]
    }
   ],
   "source": [
    "s = [1, 2, 3, 3, 4]\n",
    "#push \n",
    "s.append(8)\n",
    "s.append(10)\n",
    "s.append(12)\n",
    "print(s)"
   ]
  },
  {
   "cell_type": "code",
   "execution_count": 202,
   "metadata": {},
   "outputs": [
    {
     "name": "stdout",
     "output_type": "stream",
     "text": [
      "[1, 2, 3, 3, 4, 8, 10]\n"
     ]
    }
   ],
   "source": [
    "#pop\n",
    "s.pop()\n",
    "print(s)"
   ]
  },
  {
   "cell_type": "code",
   "execution_count": 203,
   "metadata": {},
   "outputs": [
    {
     "name": "stdout",
     "output_type": "stream",
     "text": [
      "[1, 2, 3, 3, 4]\n"
     ]
    }
   ],
   "source": [
    "s.pop()\n",
    "s.pop()\n",
    "print(s)"
   ]
  },
  {
   "cell_type": "code",
   "execution_count": 204,
   "metadata": {},
   "outputs": [
    {
     "data": {
      "text/plain": [
       "4"
      ]
     },
     "execution_count": 204,
     "metadata": {},
     "output_type": "execute_result"
    }
   ],
   "source": [
    "#pop using index\n",
    "s[-1]"
   ]
  },
  {
   "cell_type": "code",
   "execution_count": 205,
   "metadata": {},
   "outputs": [
    {
     "name": "stdout",
     "output_type": "stream",
     "text": [
      "[1, 2, 3, 3, 4]\n"
     ]
    }
   ],
   "source": [
    "print(s) #s is unchanged"
   ]
  },
  {
   "cell_type": "markdown",
   "metadata": {},
   "source": [
    "* using list as stack in python is not recommended. because of the capacity constraint and copying issue that comes with the lists.<br>\n",
    "* we can use collections.deque() instead, they are generalization of stacks and queues. <br>\n",
    "* deque() - deck - double ended queue.<br>\n",
    "* it supports thread safe, memory efficient appends and pops from either side of the queue with approx O(1) performance in either direction."
   ]
  },
  {
   "cell_type": "code",
   "execution_count": 206,
   "metadata": {},
   "outputs": [],
   "source": [
    "from collections import deque\n",
    "\n",
    "stack = deque()\n"
   ]
  },
  {
   "cell_type": "code",
   "execution_count": 207,
   "metadata": {},
   "outputs": [
    {
     "data": {
      "text/plain": [
       "['__add__',\n",
       " '__class__',\n",
       " '__class_getitem__',\n",
       " '__contains__',\n",
       " '__copy__',\n",
       " '__delattr__',\n",
       " '__delitem__',\n",
       " '__dir__',\n",
       " '__doc__',\n",
       " '__eq__',\n",
       " '__format__',\n",
       " '__ge__',\n",
       " '__getattribute__',\n",
       " '__getitem__',\n",
       " '__getstate__',\n",
       " '__gt__',\n",
       " '__hash__',\n",
       " '__iadd__',\n",
       " '__imul__',\n",
       " '__init__',\n",
       " '__init_subclass__',\n",
       " '__iter__',\n",
       " '__le__',\n",
       " '__len__',\n",
       " '__lt__',\n",
       " '__mul__',\n",
       " '__ne__',\n",
       " '__new__',\n",
       " '__reduce__',\n",
       " '__reduce_ex__',\n",
       " '__repr__',\n",
       " '__reversed__',\n",
       " '__rmul__',\n",
       " '__setattr__',\n",
       " '__setitem__',\n",
       " '__sizeof__',\n",
       " '__str__',\n",
       " '__subclasshook__',\n",
       " 'append',\n",
       " 'appendleft',\n",
       " 'clear',\n",
       " 'copy',\n",
       " 'count',\n",
       " 'extend',\n",
       " 'extendleft',\n",
       " 'index',\n",
       " 'insert',\n",
       " 'maxlen',\n",
       " 'pop',\n",
       " 'popleft',\n",
       " 'remove',\n",
       " 'reverse',\n",
       " 'rotate']"
      ]
     },
     "execution_count": 207,
     "metadata": {},
     "output_type": "execute_result"
    }
   ],
   "source": [
    "dir(stack)"
   ]
  },
  {
   "cell_type": "code",
   "execution_count": 208,
   "metadata": {},
   "outputs": [
    {
     "data": {
      "text/plain": [
       "deque([1, 2, 3, 4, 5])"
      ]
     },
     "execution_count": 208,
     "metadata": {},
     "output_type": "execute_result"
    }
   ],
   "source": [
    "stack.append(1)\n",
    "stack.append(2)\n",
    "stack.append(3)\n",
    "stack.append(4)\n",
    "stack.append(5)\n",
    "stack"
   ]
  },
  {
   "cell_type": "code",
   "execution_count": 209,
   "metadata": {},
   "outputs": [
    {
     "data": {
      "text/plain": [
       "deque([1, 2, 3, 4])"
      ]
     },
     "execution_count": 209,
     "metadata": {},
     "output_type": "execute_result"
    }
   ],
   "source": [
    "stack.pop()\n",
    "stack"
   ]
  },
  {
   "cell_type": "code",
   "execution_count": 210,
   "metadata": {},
   "outputs": [],
   "source": [
    "class Stack:\n",
    "    def __init__(self):\n",
    "        self.container = deque()\n",
    "\n",
    "    def push(self, val):\n",
    "        self.container.append(val)\n",
    "    \n",
    "    def pop(self):\n",
    "        return self.container.pop()\n",
    "        \n",
    "\n",
    "    def peek(self):\n",
    "        return self.container[-1]\n",
    "    \n",
    "    def is_empty(self):\n",
    "        return len(self.container)==0\n",
    "    \n",
    "    def len_of_stack(self):\n",
    "        return len(self.container)\n",
    "    \n",
    "    def display_stack(self):\n",
    "        return self.container\n",
    "    \n",
    "    def reverse_string(self, sentence):\n",
    "        self.container.clear()\n",
    "        for char in sentence:\n",
    "            self.push(char)\n",
    "\n",
    "        return \"\".join(self.pop() for _ in range(len(self.container)))"
   ]
  },
  {
   "cell_type": "code",
   "execution_count": 211,
   "metadata": {},
   "outputs": [],
   "source": [
    "s = Stack()\n",
    "s.push(23)\n",
    "s.push(24)\n",
    "s.push(25)\n",
    "s.push(76)\n",
    "s.push(65)"
   ]
  },
  {
   "cell_type": "code",
   "execution_count": 212,
   "metadata": {},
   "outputs": [
    {
     "name": "stdout",
     "output_type": "stream",
     "text": [
      "Display the elements of stack: deque([23, 24, 25, 76, 65])\n",
      "peeking into stack: it will not remove element from stack: 65\n",
      "after peek: deque([23, 24, 25, 76, 65])\n",
      "delete the element from stack : 65\n",
      "Checking if the stack is empty: False\n",
      "The length of stack if : 4\n"
     ]
    }
   ],
   "source": [
    "print(f'Display the elements of stack: {s.display_stack()}')\n",
    "print(f'peeking into stack: it will not remove element from stack: {s.peek()}')\n",
    "print(f'after peek: {s.display_stack()}')\n",
    "print(f'delete the element from stack : {s.pop()}')\n",
    "#print(f'The stack values after pop : {s.display_stack()}')\n",
    "print(f'Checking if the stack is empty: {s.is_empty()}')\n",
    "print(f'The length of stack if : {s.len_of_stack()}')"
   ]
  },
  {
   "cell_type": "code",
   "execution_count": 213,
   "metadata": {},
   "outputs": [],
   "source": [
    "string_ = \"We will conquere COVID-19\""
   ]
  },
  {
   "cell_type": "code",
   "execution_count": 214,
   "metadata": {},
   "outputs": [
    {
     "name": "stdout",
     "output_type": "stream",
     "text": [
      "91-DIVOC ereuqnoc lliw eW\n"
     ]
    }
   ],
   "source": [
    "rstr = s.reverse_string(string_)\n",
    "print(rstr)"
   ]
  },
  {
   "cell_type": "markdown",
   "metadata": {},
   "source": [
    "<br>"
   ]
  },
  {
   "cell_type": "markdown",
   "metadata": {},
   "source": [
    "##### Exercise 2: check balanced paranthesis"
   ]
  },
  {
   "cell_type": "code",
   "execution_count": 215,
   "metadata": {},
   "outputs": [],
   "source": [
    "def has_match(para):\n",
    "    open_close = {\n",
    "        '(':')',\n",
    "        '{':'}',\n",
    "        '[':']'\n",
    "    }\n",
    "    for key,val in open_close.items():\n",
    "        if val == para:\n",
    "            return key\n",
    "    return None\n",
    "\n",
    "def balanced_para(paras):\n",
    "    stack = Stack()\n",
    "    paras = sorted(paras)\n",
    "    open = ['{', '(', '[']\n",
    "    closed = ['}', ')', ']']\n",
    "\n",
    "    for p in paras:\n",
    "        if p in open:\n",
    "            stack.push(p)\n",
    "        elif p in closed:\n",
    "            if not stack.is_empty():\n",
    "                openpara = has_match(p)\n",
    "                if openpara == stack.peek():\n",
    "                    stack.pop()\n",
    "                else:\n",
    "                    return False\n",
    "            else:\n",
    "                return False\n",
    "        else:\n",
    "            continue\n",
    "\n",
    "    return stack.is_empty()\n"
   ]
  },
  {
   "cell_type": "code",
   "execution_count": 216,
   "metadata": {},
   "outputs": [
    {
     "data": {
      "text/plain": [
       "False"
      ]
     },
     "execution_count": 216,
     "metadata": {},
     "output_type": "execute_result"
    }
   ],
   "source": [
    "paran = \"([]\"\n",
    "balanced_para(paran)"
   ]
  },
  {
   "cell_type": "code",
   "execution_count": 217,
   "metadata": {},
   "outputs": [],
   "source": [
    "# another method\n",
    "\n",
    "def isvalid(paras):\n",
    "    stack = Stack()\n",
    "    paras = sorted(paras)\n",
    "    paranths = {'(':')','{':'}','[':']'}\n",
    "\n",
    "    for p in paras:\n",
    "        if p in paranths:\n",
    "            stack.push(p)\n",
    "        elif stack.is_empty() or paranths[stack.pop()] != p:\n",
    "            return False\n",
    "    \n",
    "    print(stack.is_empty())\n"
   ]
  },
  {
   "cell_type": "code",
   "execution_count": 219,
   "metadata": {},
   "outputs": [
    {
     "data": {
      "text/plain": [
       "False"
      ]
     },
     "execution_count": 219,
     "metadata": {},
     "output_type": "execute_result"
    }
   ],
   "source": [
    "paras = \"({[])\"\n",
    "isvalid(paras)\n"
   ]
  },
  {
   "cell_type": "code",
   "execution_count": null,
   "metadata": {},
   "outputs": [],
   "source": []
  }
 ],
 "metadata": {
  "kernelspec": {
   "display_name": "Python 3",
   "language": "python",
   "name": "python3"
  },
  "language_info": {
   "codemirror_mode": {
    "name": "ipython",
    "version": 3
   },
   "file_extension": ".py",
   "mimetype": "text/x-python",
   "name": "python",
   "nbconvert_exporter": "python",
   "pygments_lexer": "ipython3",
   "version": "3.11.4"
  },
  "orig_nbformat": 4
 },
 "nbformat": 4,
 "nbformat_minor": 2
}
