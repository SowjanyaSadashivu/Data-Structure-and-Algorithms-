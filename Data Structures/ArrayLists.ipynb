{
 "cells": [
  {
   "cell_type": "markdown",
   "metadata": {},
   "source": [
    "Exercise - 1\n",
    "\n",
    "Let us say your expense for every month are listed below, <br>\n",
    "January - 2200<br>\n",
    "February - 2350<br>\n",
    "March - 2600<br>\n",
    "April - 2130<br>\n",
    "May - 2190<br>\n",
    "\n",
    "Create a list to store these monthly expenses and using that find out"
   ]
  },
  {
   "cell_type": "code",
   "execution_count": 1,
   "metadata": {},
   "outputs": [],
   "source": [
    "expenses = [2200, 2350, 2600, 2130, 2190]"
   ]
  },
  {
   "cell_type": "code",
   "execution_count": 2,
   "metadata": {},
   "outputs": [
    {
     "name": "stdout",
     "output_type": "stream",
     "text": [
      "In Feb, 150 dollars was spent extra compare to January\n"
     ]
    }
   ],
   "source": [
    "#1. In Feb, how many dollars you spent extra compare to January?\n",
    "print(f'In Feb, {expenses[1]-expenses[0]} dollars was spent extra compare to January')"
   ]
  },
  {
   "cell_type": "code",
   "execution_count": 3,
   "metadata": {},
   "outputs": [
    {
     "name": "stdout",
     "output_type": "stream",
     "text": [
      "Total expense in first quarter (first three months) of the year is : 7150\n"
     ]
    }
   ],
   "source": [
    "#2. Find out your total expense in first quarter (first three months) of the year.\n",
    "print(f'Total expense in first quarter (first three months) of the year is : {sum(expenses[0:3])}')"
   ]
  },
  {
   "cell_type": "code",
   "execution_count": 4,
   "metadata": {},
   "outputs": [
    {
     "name": "stdout",
     "output_type": "stream",
     "text": [
      "The month when exactly 2000 dollars was spent : False\n"
     ]
    }
   ],
   "source": [
    "#3. Find out if you spent exactly 2000 dollars in any month\n",
    "print(f'The month when exactly 2000 dollars was spent : {2000 in expenses}')"
   ]
  },
  {
   "cell_type": "code",
   "execution_count": 5,
   "metadata": {},
   "outputs": [],
   "source": [
    "#4. June month just finished and your expense is 1980 dollar. Add this item to our monthly expense list\n",
    "expenses.append(1980)"
   ]
  },
  {
   "cell_type": "code",
   "execution_count": 6,
   "metadata": {},
   "outputs": [],
   "source": [
    "#5. You returned an item that you bought in a month of April and\n",
    "#got a refund of 200$. Make a correction to your monthly expense list\n",
    "#based on this\n",
    "expenses[3] = expenses[3] - 200"
   ]
  },
  {
   "cell_type": "code",
   "execution_count": 7,
   "metadata": {},
   "outputs": [
    {
     "name": "stdout",
     "output_type": "stream",
     "text": [
      "Expenses after all changes is : [2200, 2350, 2600, 1930, 2190, 1980]\n"
     ]
    }
   ],
   "source": [
    "print(f'Expenses after all changes is : {expenses}')"
   ]
  },
  {
   "cell_type": "markdown",
   "metadata": {},
   "source": [
    "Exercise - 2\n",
    "\n",
    "You have a list of your favourite marvel super heros.<br>\n",
    "heros=['spider man','thor','hulk','iron man','captain america']<br>"
   ]
  },
  {
   "cell_type": "code",
   "execution_count": 8,
   "metadata": {},
   "outputs": [],
   "source": [
    "heros=['spider man','thor','hulk','iron man','captain america']"
   ]
  },
  {
   "cell_type": "code",
   "execution_count": 9,
   "metadata": {},
   "outputs": [
    {
     "name": "stdout",
     "output_type": "stream",
     "text": [
      "the length of list is : 5\n"
     ]
    }
   ],
   "source": [
    "#1. Length of the list\n",
    "print(f'the length of list is : {len(heros)}')"
   ]
  },
  {
   "cell_type": "code",
   "execution_count": 10,
   "metadata": {},
   "outputs": [
    {
     "name": "stdout",
     "output_type": "stream",
     "text": [
      "after adding black panther to teh list: ['spider man', 'thor', 'hulk', 'iron man', 'captain america', 'black panther']\n"
     ]
    }
   ],
   "source": [
    "#2. Add 'black panther' at the end of this list\n",
    "heros.append('black panther')\n",
    "print(f'after adding black panther to teh list: {heros}')"
   ]
  },
  {
   "cell_type": "code",
   "execution_count": 11,
   "metadata": {},
   "outputs": [
    {
     "name": "stdout",
     "output_type": "stream",
     "text": [
      "after removing black panther : ['spider man', 'thor', 'hulk', 'iron man', 'captain america']\n",
      "list after changes : ['spider man', 'thor', 'hulk', 'black panther', 'iron man', 'captain america']\n"
     ]
    }
   ],
   "source": [
    "#3. You realize that you need to add 'black panther' after 'hulk',\n",
    "#so remove it from the list first and then add it after 'hulk'\n",
    "heros.remove('black panther')\n",
    "print(f'after removing black panther : {heros}')\n",
    "\n",
    "heros.insert(3, 'black panther')\n",
    "print(f'list after changes : {heros}')"
   ]
  },
  {
   "cell_type": "code",
   "execution_count": 12,
   "metadata": {},
   "outputs": [],
   "source": [
    "#4. Now you don't like thor and hulk because they get angry easily :)\n",
    "#So you want to remove thor and hulk from list and replace them with doctor strange \n",
    "#(because he is cool).Do that with one line of code.\n",
    "\n",
    "heros[1:3] = ['doctor stranger']"
   ]
  },
  {
   "cell_type": "code",
   "execution_count": 13,
   "metadata": {},
   "outputs": [
    {
     "name": "stdout",
     "output_type": "stream",
     "text": [
      "sorted list is : ['black panther', 'captain america', 'doctor stranger', 'iron man', 'spider man']\n"
     ]
    }
   ],
   "source": [
    "#5. Sort the heros list in alphabetical order \n",
    "#(Hint. Use dir() functions to list down all functions available in list)\n",
    "\n",
    "print(f'sorted list is : {sorted(heros)}')"
   ]
  },
  {
   "cell_type": "markdown",
   "metadata": {},
   "source": [
    "Exerise 3:<br>\n",
    "Create a list of all odd numbers between 1 and a max number. <br>\n",
    "Max number is something you need to take from a user using input() function<br>"
   ]
  },
  {
   "cell_type": "code",
   "execution_count": 14,
   "metadata": {},
   "outputs": [
    {
     "name": "stdout",
     "output_type": "stream",
     "text": [
      "method 1: odd numbers from 1 to 14 are [1, 3, 5, 7, 9, 11, 13]\n",
      "method 2: odd_numbers are: [1, 3, 5, 7, 9, 11, 13]\n"
     ]
    }
   ],
   "source": [
    "max_value = int(input('Enter the max value : '))\n",
    "print(f'method 1: odd numbers from 1 to {max_value} are {list(range(1, max_value, 2))}')\n",
    "odd_num = []\n",
    "for i in range(1, max_value):\n",
    "    if i % 2 != 0:\n",
    "        odd_num.append(i)\n",
    "print(f'method 2: odd_numbers are: {odd_num}')"
   ]
  },
  {
   "cell_type": "code",
   "execution_count": 16,
   "metadata": {},
   "outputs": [
    {
     "name": "stdout",
     "output_type": "stream",
     "text": [
      "True\n",
      "False\n"
     ]
    }
   ],
   "source": [
    "# to check if the elements of list are unique\n",
    "arr = ['s', 1, 'e', 3]\n",
    "print(len(arr) == len(set(arr)))\n",
    "arr1 = ['s', 1, 'e', 3, 3]\n",
    "print(len(arr1) == len(set(arr1)))"
   ]
  },
  {
   "cell_type": "code",
   "execution_count": 19,
   "metadata": {},
   "outputs": [
    {
     "name": "stdout",
     "output_type": "stream",
     "text": [
      "char_str1 is : {'a': 1, 'b': 1, 'c': 1}\n",
      "char_str2 is :  {'c': 1, 'b': 1, 'a': 1}\n",
      "They are permutation\n"
     ]
    }
   ],
   "source": [
    "#given two string check if one is permutaion of other\n",
    "\n",
    "str1 = 'abc'\n",
    "str2 = 'cba'\n",
    "\n",
    "if len(str1) != len(str2):\n",
    "    print('Not permutaion')\n",
    "\n",
    "char_str1 = {}\n",
    "char_str2 = {}\n",
    "\n",
    "for s in str1:\n",
    "    char_str1[s] = char_str1.get(s, 0) + 1\n",
    "\n",
    "for s in str2:\n",
    "    char_str2[s] = char_str2.get(s, 0) + 1\n",
    "\n",
    "print('char_str1 is :' ,char_str1)\n",
    "print('char_str2 is : ', char_str2)\n",
    "\n",
    "if char_str1 == char_str2:\n",
    "    print('They are permutation')\n",
    "else:\n",
    "    print('Not permulation')\n",
    "\n"
   ]
  },
  {
   "cell_type": "code",
   "execution_count": null,
   "metadata": {},
   "outputs": [],
   "source": [
    "\n"
   ]
  }
 ],
 "metadata": {
  "kernelspec": {
   "display_name": "Python 3",
   "language": "python",
   "name": "python3"
  },
  "language_info": {
   "codemirror_mode": {
    "name": "ipython",
    "version": 3
   },
   "file_extension": ".py",
   "mimetype": "text/x-python",
   "name": "python",
   "nbconvert_exporter": "python",
   "pygments_lexer": "ipython3",
   "version": "3.11.4"
  },
  "orig_nbformat": 4
 },
 "nbformat": 4,
 "nbformat_minor": 2
}
