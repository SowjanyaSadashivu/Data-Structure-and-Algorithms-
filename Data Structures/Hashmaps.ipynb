{
 "cells": [
  {
   "cell_type": "code",
   "execution_count": 1,
   "metadata": {},
   "outputs": [],
   "source": [
    "#we can write hash function in multiple ways\n",
    "#in this example we get the index value by taking the mod(sum(ascii values of key), 100)\n",
    "#considering 100 as a size of list\n",
    "\n",
    "def get_hash(key):\n",
    "    sum_ = 0\n",
    "    for char in key:\n",
    "        sum_ += ord(char)\n",
    "    return sum_ % 100"
   ]
  },
  {
   "cell_type": "code",
   "execution_count": 2,
   "metadata": {},
   "outputs": [
    {
     "data": {
      "text/plain": [
       "63"
      ]
     },
     "execution_count": 2,
     "metadata": {},
     "output_type": "execute_result"
    }
   ],
   "source": [
    "#example\n",
    "get_hash('xyz')"
   ]
  },
  {
   "cell_type": "code",
   "execution_count": 3,
   "metadata": {},
   "outputs": [],
   "source": [
    "#chaining \n",
    "class HashTable:\n",
    "    def __init__(self):\n",
    "        self.MAX = 100\n",
    "        self.arr = [None for i in range(self.MAX)]\n",
    "\n",
    "    def get_hash(self, key):\n",
    "        #sum(ord(char) for char in key) % self.MAX\n",
    "        self.sum_ = 0\n",
    "        for char in key:\n",
    "            self.sum_ += ord(char)\n",
    "        return self.sum_ % self.MAX\n",
    "    \n",
    "    def add(self, key, val):\n",
    "        index_key = self.get_hash(key)\n",
    "        self.arr[index_key] = val\n",
    "\n",
    "    def get(self, key):\n",
    "        index_key = self.get_hash(key)\n",
    "        return self.arr[index_key]\n",
    "\n"
   ]
  },
  {
   "cell_type": "code",
   "execution_count": 4,
   "metadata": {},
   "outputs": [],
   "source": [
    "ht = HashTable()\n",
    "ht.add('march 6', 130)"
   ]
  },
  {
   "cell_type": "code",
   "execution_count": 5,
   "metadata": {},
   "outputs": [
    {
     "data": {
      "text/plain": [
       "130"
      ]
     },
     "execution_count": 5,
     "metadata": {},
     "output_type": "execute_result"
    }
   ],
   "source": [
    "ht.get('march 6')"
   ]
  },
  {
   "cell_type": "code",
   "execution_count": 6,
   "metadata": {},
   "outputs": [],
   "source": [
    "#change a bit of code to support above getter and setter\n",
    "class HashTable:\n",
    "    def __init__(self):\n",
    "        self.MAX = 100\n",
    "        self.arr = [None for _ in range(self.MAX)]\n",
    "\n",
    "    def get_hash(self, key):\n",
    "        sum_ = 0\n",
    "        for char in key:\n",
    "            sum_ += ord(char)\n",
    "        return sum_ % self.MAX\n",
    "    \n",
    "    def __setitem__(self, key, val):\n",
    "        index_key = self.get_hash(key)\n",
    "        self.arr[index_key] = val\n",
    "\n",
    "    def __getitem__(self, key):\n",
    "        index_key = self.get_hash(key)\n",
    "        return self.arr[index_key]\n",
    "    \n",
    "    def __delitem__(self, key):\n",
    "        index_key = self.get_hash(key)\n",
    "        self.arr[index_key] = None"
   ]
  },
  {
   "cell_type": "code",
   "execution_count": 7,
   "metadata": {},
   "outputs": [
    {
     "data": {
      "text/plain": [
       "[None,\n",
       " None,\n",
       " None,\n",
       " None,\n",
       " None,\n",
       " None,\n",
       " None,\n",
       " None,\n",
       " None,\n",
       " None,\n",
       " 140,\n",
       " 160,\n",
       " 200,\n",
       " None,\n",
       " None,\n",
       " None,\n",
       " None,\n",
       " None,\n",
       " None,\n",
       " None,\n",
       " None,\n",
       " None,\n",
       " None,\n",
       " None,\n",
       " None,\n",
       " None,\n",
       " None,\n",
       " None,\n",
       " None,\n",
       " None,\n",
       " None,\n",
       " None,\n",
       " None,\n",
       " None,\n",
       " None,\n",
       " None,\n",
       " None,\n",
       " None,\n",
       " None,\n",
       " None,\n",
       " None,\n",
       " None,\n",
       " None,\n",
       " None,\n",
       " None,\n",
       " None,\n",
       " None,\n",
       " None,\n",
       " None,\n",
       " None,\n",
       " None,\n",
       " None,\n",
       " None,\n",
       " None,\n",
       " None,\n",
       " None,\n",
       " None,\n",
       " None,\n",
       " None,\n",
       " None,\n",
       " None,\n",
       " None,\n",
       " None,\n",
       " None,\n",
       " None,\n",
       " None,\n",
       " None,\n",
       " None,\n",
       " None,\n",
       " None,\n",
       " None,\n",
       " None,\n",
       " None,\n",
       " None,\n",
       " None,\n",
       " None,\n",
       " None,\n",
       " None,\n",
       " None,\n",
       " None,\n",
       " None,\n",
       " None,\n",
       " None,\n",
       " None,\n",
       " None,\n",
       " None,\n",
       " None,\n",
       " None,\n",
       " None,\n",
       " None,\n",
       " None,\n",
       " None,\n",
       " None,\n",
       " None,\n",
       " None,\n",
       " None,\n",
       " None,\n",
       " None,\n",
       " None,\n",
       " None]"
      ]
     },
     "execution_count": 7,
     "metadata": {},
     "output_type": "execute_result"
    }
   ],
   "source": [
    "ht = HashTable()\n",
    "ht['march 7'] = 140\n",
    "ht['march 8'] = 160\n",
    "ht['march 9'] = 200\n",
    "ht.arr"
   ]
  },
  {
   "cell_type": "code",
   "execution_count": 8,
   "metadata": {},
   "outputs": [
    {
     "data": {
      "text/plain": [
       "[None,\n",
       " None,\n",
       " None,\n",
       " None,\n",
       " None,\n",
       " None,\n",
       " None,\n",
       " None,\n",
       " None,\n",
       " None,\n",
       " None,\n",
       " 160,\n",
       " 200,\n",
       " None,\n",
       " None,\n",
       " None,\n",
       " None,\n",
       " None,\n",
       " None,\n",
       " None,\n",
       " None,\n",
       " None,\n",
       " None,\n",
       " None,\n",
       " None,\n",
       " None,\n",
       " None,\n",
       " None,\n",
       " None,\n",
       " None,\n",
       " None,\n",
       " None,\n",
       " None,\n",
       " None,\n",
       " None,\n",
       " None,\n",
       " None,\n",
       " None,\n",
       " None,\n",
       " None,\n",
       " None,\n",
       " None,\n",
       " None,\n",
       " None,\n",
       " None,\n",
       " None,\n",
       " None,\n",
       " None,\n",
       " None,\n",
       " None,\n",
       " None,\n",
       " None,\n",
       " None,\n",
       " None,\n",
       " None,\n",
       " None,\n",
       " None,\n",
       " None,\n",
       " None,\n",
       " None,\n",
       " None,\n",
       " None,\n",
       " None,\n",
       " None,\n",
       " None,\n",
       " None,\n",
       " None,\n",
       " None,\n",
       " None,\n",
       " None,\n",
       " None,\n",
       " None,\n",
       " None,\n",
       " None,\n",
       " None,\n",
       " None,\n",
       " None,\n",
       " None,\n",
       " None,\n",
       " None,\n",
       " None,\n",
       " None,\n",
       " None,\n",
       " None,\n",
       " None,\n",
       " None,\n",
       " None,\n",
       " None,\n",
       " None,\n",
       " None,\n",
       " None,\n",
       " None,\n",
       " None,\n",
       " None,\n",
       " None,\n",
       " None,\n",
       " None,\n",
       " None,\n",
       " None,\n",
       " None]"
      ]
     },
     "execution_count": 8,
     "metadata": {},
     "output_type": "execute_result"
    }
   ],
   "source": [
    "del ht['march 7']\n",
    "ht.arr"
   ]
  },
  {
   "cell_type": "markdown",
   "metadata": {},
   "source": [
    "##### Collision handling\n",
    "<br>\n",
    "key -> Hash function -> index to hash table\n",
    "<br>\n",
    "<br>\n",
    "\n",
    "on collision the data wilol be overwrittebn by recent data for that index.\n",
    "<br>\n",
    "\n",
    "-- First method: Linkedlist / chaining\n",
    "* when there is a collision of index use -> Linkedlist/chaining\n",
    "* we keep appending values of the key to the same index.\n",
    "* multiple keys can share the same index.\n",
    "* search complexity in this case is : O(n) same as LinkedList\n",
    "\n",
    "-- second method: Linear probing\n",
    "* we linearly search for empty slot to store the data.\n",
    "* when a index is generated with the help of hash function we look for that index.\n",
    "* if the index is occupied we probe foreward and check if the next slot is empty.\n",
    "* we continue this till we find an empty slot, and store the data.\n",
    "* when we reach end of the table, we go back to the beginning and start searching for a slot.\n"
   ]
  },
  {
   "cell_type": "code",
   "execution_count": 9,
   "metadata": {},
   "outputs": [],
   "source": [
    "#chaining in python\n",
    "\n",
    "class HashTable:\n",
    "    def __init__(self):\n",
    "        self.MAX = 100\n",
    "        self.arr = [[] for _ in range(self.MAX)] # create an array for individual array\n",
    "\n",
    "    def get_hash(self, key):\n",
    "        sum_ = 0\n",
    "        for char in key:\n",
    "            sum_ += ord(char)\n",
    "        return sum_ % self.MAX\n",
    "    \n",
    "    def __setitem__(self, key, val):\n",
    "        index_key = self.get_hash(key)\n",
    "        #iterate through linked list to store value\n",
    "        found = False\n",
    "        #if there are elements in the table for the same key/index\n",
    "        for _, (idx_key, _) in enumerate(self.arr[index_key]):\n",
    "            if idx_key == key:\n",
    "                self.arr[index_key].append((key, val))\n",
    "                found = True\n",
    "                break\n",
    "        if not found:\n",
    "            self.arr[index_key].append((key, val))\n",
    "    \n",
    "    def __getitem__(self, key):\n",
    "        index_key = self.get_hash(key)\n",
    "        for element in self.arr[index_key]:\n",
    "            if element[0] == key:\n",
    "                return element[1]\n",
    "    \n",
    "    def __delitem__(self, key):\n",
    "        index_key = self.get_hash(key)\n",
    "        for idx, elements in enumerate(self.arr[index_key]):\n",
    "            if elements[0] == key:\n",
    "                del self.arr[index_key][idx]"
   ]
  },
  {
   "cell_type": "code",
   "execution_count": 10,
   "metadata": {},
   "outputs": [
    {
     "name": "stdout",
     "output_type": "stream",
     "text": [
      "9\n",
      "97\n"
     ]
    }
   ],
   "source": [
    "print(ht.get_hash('march 6'))\n",
    "print(ht.get_hash('ad'))"
   ]
  },
  {
   "cell_type": "code",
   "execution_count": 11,
   "metadata": {},
   "outputs": [],
   "source": [
    "ht = HashTable()\n",
    "ht['march 6'] = 12\n",
    "ht['march 6'] = 67\n",
    "ht['charm 6'] = 29\n",
    "ht['march 8'] = 23\n",
    "ht['march 8'] = 24\n"
   ]
  },
  {
   "cell_type": "code",
   "execution_count": 12,
   "metadata": {},
   "outputs": [
    {
     "data": {
      "text/plain": [
       "[[],\n",
       " [],\n",
       " [],\n",
       " [],\n",
       " [],\n",
       " [],\n",
       " [],\n",
       " [],\n",
       " [],\n",
       " [('march 6', 12), ('march 6', 67), ('charm 6', 29)],\n",
       " [],\n",
       " [('march 8', 23), ('march 8', 24)],\n",
       " [],\n",
       " [],\n",
       " [],\n",
       " [],\n",
       " [],\n",
       " [],\n",
       " [],\n",
       " [],\n",
       " [],\n",
       " [],\n",
       " [],\n",
       " [],\n",
       " [],\n",
       " [],\n",
       " [],\n",
       " [],\n",
       " [],\n",
       " [],\n",
       " [],\n",
       " [],\n",
       " [],\n",
       " [],\n",
       " [],\n",
       " [],\n",
       " [],\n",
       " [],\n",
       " [],\n",
       " [],\n",
       " [],\n",
       " [],\n",
       " [],\n",
       " [],\n",
       " [],\n",
       " [],\n",
       " [],\n",
       " [],\n",
       " [],\n",
       " [],\n",
       " [],\n",
       " [],\n",
       " [],\n",
       " [],\n",
       " [],\n",
       " [],\n",
       " [],\n",
       " [],\n",
       " [],\n",
       " [],\n",
       " [],\n",
       " [],\n",
       " [],\n",
       " [],\n",
       " [],\n",
       " [],\n",
       " [],\n",
       " [],\n",
       " [],\n",
       " [],\n",
       " [],\n",
       " [],\n",
       " [],\n",
       " [],\n",
       " [],\n",
       " [],\n",
       " [],\n",
       " [],\n",
       " [],\n",
       " [],\n",
       " [],\n",
       " [],\n",
       " [],\n",
       " [],\n",
       " [],\n",
       " [],\n",
       " [],\n",
       " [],\n",
       " [],\n",
       " [],\n",
       " [],\n",
       " [],\n",
       " [],\n",
       " [],\n",
       " [],\n",
       " [],\n",
       " [],\n",
       " [],\n",
       " [],\n",
       " []]"
      ]
     },
     "execution_count": 12,
     "metadata": {},
     "output_type": "execute_result"
    }
   ],
   "source": [
    "ht.arr"
   ]
  },
  {
   "cell_type": "code",
   "execution_count": 13,
   "metadata": {},
   "outputs": [
    {
     "data": {
      "text/plain": [
       "29"
      ]
     },
     "execution_count": 13,
     "metadata": {},
     "output_type": "execute_result"
    }
   ],
   "source": [
    "ht['charm 6']"
   ]
  },
  {
   "cell_type": "code",
   "execution_count": 14,
   "metadata": {},
   "outputs": [],
   "source": [
    "del ht['march 6']"
   ]
  },
  {
   "cell_type": "code",
   "execution_count": 15,
   "metadata": {},
   "outputs": [
    {
     "data": {
      "text/plain": [
       "[[],\n",
       " [],\n",
       " [],\n",
       " [],\n",
       " [],\n",
       " [],\n",
       " [],\n",
       " [],\n",
       " [],\n",
       " [('march 6', 67), ('charm 6', 29)],\n",
       " [],\n",
       " [('march 8', 23), ('march 8', 24)],\n",
       " [],\n",
       " [],\n",
       " [],\n",
       " [],\n",
       " [],\n",
       " [],\n",
       " [],\n",
       " [],\n",
       " [],\n",
       " [],\n",
       " [],\n",
       " [],\n",
       " [],\n",
       " [],\n",
       " [],\n",
       " [],\n",
       " [],\n",
       " [],\n",
       " [],\n",
       " [],\n",
       " [],\n",
       " [],\n",
       " [],\n",
       " [],\n",
       " [],\n",
       " [],\n",
       " [],\n",
       " [],\n",
       " [],\n",
       " [],\n",
       " [],\n",
       " [],\n",
       " [],\n",
       " [],\n",
       " [],\n",
       " [],\n",
       " [],\n",
       " [],\n",
       " [],\n",
       " [],\n",
       " [],\n",
       " [],\n",
       " [],\n",
       " [],\n",
       " [],\n",
       " [],\n",
       " [],\n",
       " [],\n",
       " [],\n",
       " [],\n",
       " [],\n",
       " [],\n",
       " [],\n",
       " [],\n",
       " [],\n",
       " [],\n",
       " [],\n",
       " [],\n",
       " [],\n",
       " [],\n",
       " [],\n",
       " [],\n",
       " [],\n",
       " [],\n",
       " [],\n",
       " [],\n",
       " [],\n",
       " [],\n",
       " [],\n",
       " [],\n",
       " [],\n",
       " [],\n",
       " [],\n",
       " [],\n",
       " [],\n",
       " [],\n",
       " [],\n",
       " [],\n",
       " [],\n",
       " [],\n",
       " [],\n",
       " [],\n",
       " [],\n",
       " [],\n",
       " [],\n",
       " [],\n",
       " [],\n",
       " []]"
      ]
     },
     "execution_count": 15,
     "metadata": {},
     "output_type": "execute_result"
    }
   ],
   "source": [
    "ht.arr"
   ]
  },
  {
   "cell_type": "markdown",
   "metadata": {},
   "source": [
    "#### Exercises"
   ]
  },
  {
   "cell_type": "code",
   "execution_count": 16,
   "metadata": {},
   "outputs": [
    {
     "name": "stdout",
     "output_type": "stream",
     "text": [
      "The values are like :     date  temperature(F)\n",
      "0  Jan 1              27\n",
      "1  Jan 2              31\n",
      "2  Jan 3              23\n",
      "3  Jan 4              34\n",
      "4  Jan 5              37\n",
      "The average temperature of first week is : 31.286\n",
      "The Max temperature in the 10 days is : 38\n"
     ]
    }
   ],
   "source": [
    "#using dataframes\n",
    "import pandas as pd\n",
    "import numpy as np\n",
    "\n",
    "weather = pd.read_csv('/Users/sowjanyasadashiva/Desktop/DSA/DataStructures/nyc_weather.csv')\n",
    "print(f'The values are like : {weather.head()}')\n",
    "print(f'The average temperature of first week is : {np.average(weather[\"temperature(F)\"].iloc[:7]).round(3)}')\n",
    "print(f'The Max temperature in the 10 days is : {max(weather[\"temperature(F)\"])}')"
   ]
  },
  {
   "cell_type": "code",
   "execution_count": 17,
   "metadata": {},
   "outputs": [
    {
     "name": "stdout",
     "output_type": "stream",
     "text": [
      "Invalid temperature\n"
     ]
    }
   ],
   "source": [
    "#Using arrays\n",
    "\n",
    "arr = []\n",
    "with open('nyc_weather.csv') as f:\n",
    "    for line in f:\n",
    "        token = line.split(',')\n",
    "        try:\n",
    "            temperature = int(token[1])\n",
    "            arr.append(temperature)\n",
    "        except:\n",
    "            print('Invalid temperature')"
   ]
  },
  {
   "cell_type": "code",
   "execution_count": 18,
   "metadata": {},
   "outputs": [
    {
     "name": "stdout",
     "output_type": "stream",
     "text": [
      "The temperature values are ; [27, 31, 23, 34, 37, 38, 29, 30, 35, 30]\n",
      "The average of temperature in first ween : 31.29\n",
      "The max temperature in first 10 days of jan is : 38\n"
     ]
    }
   ],
   "source": [
    "print(f'The temperature values are ; {arr}')\n",
    "print(f'The average of temperature in first ween : {sum(arr[:7])/len(arr[:7]):.2f}')\n",
    "print(f'The max temperature in first 10 days of jan is : {max(arr[:10])}')"
   ]
  },
  {
   "cell_type": "code",
   "execution_count": 19,
   "metadata": {},
   "outputs": [
    {
     "name": "stdout",
     "output_type": "stream",
     "text": [
      "Invalid value\n"
     ]
    }
   ],
   "source": [
    "# using dictionary\n",
    "\n",
    "weather = {}\n",
    "with open('nyc_weather.csv') as f:\n",
    "    for line in f:\n",
    "        token = line.split(',') \n",
    "        key = token[0]\n",
    "        try:\n",
    "            value = int(token[1])\n",
    "            weather[key] = value\n",
    "        except:\n",
    "            print('Invalid value')"
   ]
  },
  {
   "cell_type": "code",
   "execution_count": 20,
   "metadata": {},
   "outputs": [
    {
     "name": "stdout",
     "output_type": "stream",
     "text": [
      "The weather looks like : {'Jan 1': 27, 'Jan 2': 31, 'Jan 3': 23, 'Jan 4': 34, 'Jan 5': 37, 'Jan 6': 38, 'Jan 7': 29, 'Jan 8': 30, 'Jan 9': 35, 'Jan 10': 30} \n",
      "\n",
      "The temperature on Jan 9 is : 35\n",
      "The temperature on Jan 4 is : 34\n"
     ]
    }
   ],
   "source": [
    "print(f'The weather looks like : {weather} \\n')\n",
    "print(f'The temperature on Jan 9 is : {weather[\"Jan 9\"]}')\n",
    "print(f'The temperature on Jan 4 is : {weather[\"Jan 4\"]}')"
   ]
  },
  {
   "cell_type": "code",
   "execution_count": 21,
   "metadata": {},
   "outputs": [
    {
     "data": {
      "text/plain": [
       "{'Two': 2,\n",
       " 'roads': 2,\n",
       " 'diverged': 2,\n",
       " 'in': 3,\n",
       " 'a': 3,\n",
       " 'yellow': 1,\n",
       " 'wood,': 2,\n",
       " 'And': 6,\n",
       " 'sorry': 1,\n",
       " 'I': 8,\n",
       " 'could': 2,\n",
       " 'not': 1,\n",
       " 'travel': 1,\n",
       " 'both': 2,\n",
       " 'be': 2,\n",
       " 'one': 3,\n",
       " 'traveler,': 1,\n",
       " 'long': 1,\n",
       " 'stood': 1,\n",
       " 'looked': 1,\n",
       " 'down': 1,\n",
       " 'as': 5,\n",
       " 'far': 1,\n",
       " 'To': 1,\n",
       " 'where': 1,\n",
       " 'it': 2,\n",
       " 'bent': 1,\n",
       " 'the': 8,\n",
       " 'undergrowth;': 1,\n",
       " '': 3,\n",
       " 'Then': 1,\n",
       " 'took': 2,\n",
       " 'other,': 1,\n",
       " 'just': 1,\n",
       " 'fair,': 1,\n",
       " 'having': 1,\n",
       " 'perhaps': 1,\n",
       " 'better': 1,\n",
       " 'claim,': 1,\n",
       " 'Because': 1,\n",
       " 'was': 1,\n",
       " 'grassy': 1,\n",
       " 'and': 3,\n",
       " 'wanted': 1,\n",
       " 'wear;': 1,\n",
       " 'Though': 1,\n",
       " 'for': 2,\n",
       " 'that': 3,\n",
       " 'passing': 1,\n",
       " 'there': 1,\n",
       " 'Had': 1,\n",
       " 'worn': 1,\n",
       " 'them': 1,\n",
       " 'really': 1,\n",
       " 'about': 1,\n",
       " 'same,': 1,\n",
       " 'morning': 1,\n",
       " 'equally': 1,\n",
       " 'lay': 1,\n",
       " 'In': 1,\n",
       " 'leaves': 1,\n",
       " 'no': 1,\n",
       " 'step': 1,\n",
       " 'had': 1,\n",
       " 'trodden': 1,\n",
       " 'black.': 1,\n",
       " 'Oh,': 1,\n",
       " 'kept': 1,\n",
       " 'first': 1,\n",
       " 'another': 1,\n",
       " 'day!': 1,\n",
       " 'Yet': 1,\n",
       " 'knowing': 1,\n",
       " 'how': 1,\n",
       " 'way': 1,\n",
       " 'leads': 1,\n",
       " 'on': 1,\n",
       " 'to': 1,\n",
       " 'way,': 1,\n",
       " 'doubted': 1,\n",
       " 'if': 1,\n",
       " 'should': 1,\n",
       " 'ever': 1,\n",
       " 'come': 1,\n",
       " 'back.': 1,\n",
       " 'shall': 1,\n",
       " 'telling': 1,\n",
       " 'this': 1,\n",
       " 'with': 1,\n",
       " 'sigh': 1,\n",
       " 'Somewhere': 1,\n",
       " 'ages': 2,\n",
       " 'hence:': 1,\n",
       " 'I—': 1,\n",
       " 'less': 1,\n",
       " 'traveled': 1,\n",
       " 'by,': 1,\n",
       " 'has': 1,\n",
       " 'made': 1,\n",
       " 'all': 1,\n",
       " 'difference.': 1}"
      ]
     },
     "execution_count": 21,
     "metadata": {},
     "output_type": "execute_result"
    }
   ],
   "source": [
    "word_count = {}\n",
    "with open('poem.txt') as f:\n",
    "    for line in f:\n",
    "        tokenize = line.split(' ')\n",
    "        for word in tokenize:\n",
    "            word = word.replace('\\n', '')\n",
    "            if word in word_count:\n",
    "                word_count[word] += 1\n",
    "            else:\n",
    "                word_count[word] = 1\n",
    "\n",
    "word_count"
   ]
  },
  {
   "cell_type": "code",
   "execution_count": 28,
   "metadata": {},
   "outputs": [],
   "source": [
    "#Linear Probing technique\n",
    "class LinearProbing:\n",
    "    def __init__(self):\n",
    "        self.Max = 10\n",
    "        self.arr = [None for _ in range(self.Max)]\n",
    "        self.size = 0\n",
    "\n",
    "    def get_hash(self, key):\n",
    "        sum_ = 0\n",
    "        for char in key:\n",
    "            sum_ += ord(char)\n",
    "        return sum_ % self.Max\n",
    "    \n",
    "    def __setitem__(self, key, val):\n",
    "        if self.size >= self.Max:\n",
    "            raise ValueError('Hash Table is full, cannot add new value')\n",
    "        \n",
    "        index = self.get_hash(key)\n",
    "        slot_found = False\n",
    "        while not slot_found:\n",
    "            if self.arr[index] is None:\n",
    "                self.arr[index] = (key, val)\n",
    "                slot_found = True\n",
    "                self.size += 1\n",
    "            else:\n",
    "                if index < (self.Max - 1):\n",
    "                    index += 1\n",
    "                else:\n",
    "                    index = 0\n",
    "\n",
    "    def __getitem__(self, key):\n",
    "        index = self.get_hash(key)\n",
    "        item_found = False\n",
    "        while not item_found:\n",
    "            if self.arr[index] is None:\n",
    "                raise KeyError(f'key \"{key}\" not found in the hash table')\n",
    "            elif self.arr[index][0] == key:\n",
    "                item_found = True\n",
    "                return self.arr[index]\n",
    "            else:\n",
    "                if index < (self.Max - 1):\n",
    "                    index += 1\n",
    "                else:\n",
    "                    index = 0\n",
    "\n",
    "    def __delitem__(self, key):\n",
    "        index = self.get_hash(key)\n",
    "        item_deleted = False\n",
    "        while not item_deleted:\n",
    "            if self.arr[index] is None:\n",
    "                raise KeyError(f'key \"{key}\" not found in the hash table')\n",
    "            elif self.arr[index][0] == key:\n",
    "                item_deleted = True\n",
    "                del self.arr[index]\n",
    "            else:\n",
    "                if index < (self.Max - 1):\n",
    "                    index += 1\n",
    "                else:\n",
    "                    index = 0"
   ]
  },
  {
   "cell_type": "code",
   "execution_count": 29,
   "metadata": {},
   "outputs": [
    {
     "data": {
      "text/plain": [
       "[None, None, None, None, None, None, None, None, None, None]"
      ]
     },
     "execution_count": 29,
     "metadata": {},
     "output_type": "execute_result"
    }
   ],
   "source": [
    "lp = LinearProbing()\n",
    "lp.arr"
   ]
  },
  {
   "cell_type": "code",
   "execution_count": 30,
   "metadata": {},
   "outputs": [],
   "source": [
    "lp['march 1'] = 10\n",
    "lp['march 5'] = 12\n",
    "lp['march 7'] = 28\n",
    "lp['march 6'] = 40\n",
    "lp['march 6'] = 32"
   ]
  },
  {
   "cell_type": "code",
   "execution_count": 31,
   "metadata": {},
   "outputs": [
    {
     "data": {
      "text/plain": [
       "[('march 7', 28),\n",
       " ('march 6', 32),\n",
       " None,\n",
       " None,\n",
       " ('march 1', 10),\n",
       " None,\n",
       " None,\n",
       " None,\n",
       " ('march 5', 12),\n",
       " ('march 6', 40)]"
      ]
     },
     "execution_count": 31,
     "metadata": {},
     "output_type": "execute_result"
    }
   ],
   "source": [
    "lp.arr"
   ]
  },
  {
   "cell_type": "code",
   "execution_count": 32,
   "metadata": {},
   "outputs": [
    {
     "data": {
      "text/plain": [
       "('march 6', 40)"
      ]
     },
     "execution_count": 32,
     "metadata": {},
     "output_type": "execute_result"
    }
   ],
   "source": [
    "lp['march 6']"
   ]
  },
  {
   "cell_type": "code",
   "execution_count": 33,
   "metadata": {},
   "outputs": [
    {
     "ename": "KeyError",
     "evalue": "'key \"march 10\" not found in the hash table'",
     "output_type": "error",
     "traceback": [
      "\u001b[0;31m---------------------------------------------------------------------------\u001b[0m",
      "\u001b[0;31mKeyError\u001b[0m                                  Traceback (most recent call last)",
      "\u001b[1;32m/Users/sowjanyasadashiva/Desktop/DSA/DataStructures/Hashmaps.ipynb Cell 29\u001b[0m line \u001b[0;36m1\n\u001b[0;32m----> <a href='vscode-notebook-cell:/Users/sowjanyasadashiva/Desktop/DSA/DataStructures/Hashmaps.ipynb#X55sZmlsZQ%3D%3D?line=0'>1</a>\u001b[0m lp[\u001b[39m'\u001b[39;49m\u001b[39mmarch 10\u001b[39;49m\u001b[39m'\u001b[39;49m]\n",
      "\u001b[1;32m/Users/sowjanyasadashiva/Desktop/DSA/DataStructures/Hashmaps.ipynb Cell 29\u001b[0m line \u001b[0;36m3\n\u001b[1;32m     <a href='vscode-notebook-cell:/Users/sowjanyasadashiva/Desktop/DSA/DataStructures/Hashmaps.ipynb#X55sZmlsZQ%3D%3D?line=33'>34</a>\u001b[0m \u001b[39mwhile\u001b[39;00m \u001b[39mnot\u001b[39;00m item_found:\n\u001b[1;32m     <a href='vscode-notebook-cell:/Users/sowjanyasadashiva/Desktop/DSA/DataStructures/Hashmaps.ipynb#X55sZmlsZQ%3D%3D?line=34'>35</a>\u001b[0m     \u001b[39mif\u001b[39;00m \u001b[39mself\u001b[39m\u001b[39m.\u001b[39marr[index] \u001b[39mis\u001b[39;00m \u001b[39mNone\u001b[39;00m:\n\u001b[0;32m---> <a href='vscode-notebook-cell:/Users/sowjanyasadashiva/Desktop/DSA/DataStructures/Hashmaps.ipynb#X55sZmlsZQ%3D%3D?line=35'>36</a>\u001b[0m         \u001b[39mraise\u001b[39;00m \u001b[39mKeyError\u001b[39;00m(\u001b[39mf\u001b[39m\u001b[39m'\u001b[39m\u001b[39mkey \u001b[39m\u001b[39m\"\u001b[39m\u001b[39m{\u001b[39;00mkey\u001b[39m}\u001b[39;00m\u001b[39m\"\u001b[39m\u001b[39m not found in the hash table\u001b[39m\u001b[39m'\u001b[39m)\n\u001b[1;32m     <a href='vscode-notebook-cell:/Users/sowjanyasadashiva/Desktop/DSA/DataStructures/Hashmaps.ipynb#X55sZmlsZQ%3D%3D?line=36'>37</a>\u001b[0m     \u001b[39melif\u001b[39;00m \u001b[39mself\u001b[39m\u001b[39m.\u001b[39marr[index][\u001b[39m0\u001b[39m] \u001b[39m==\u001b[39m key:\n\u001b[1;32m     <a href='vscode-notebook-cell:/Users/sowjanyasadashiva/Desktop/DSA/DataStructures/Hashmaps.ipynb#X55sZmlsZQ%3D%3D?line=37'>38</a>\u001b[0m         item_found \u001b[39m=\u001b[39m \u001b[39mTrue\u001b[39;00m\n",
      "\u001b[0;31mKeyError\u001b[0m: 'key \"march 10\" not found in the hash table'"
     ]
    }
   ],
   "source": [
    "lp['march 10']"
   ]
  },
  {
   "cell_type": "code",
   "execution_count": 34,
   "metadata": {},
   "outputs": [],
   "source": [
    "del lp['march 6']"
   ]
  },
  {
   "cell_type": "code",
   "execution_count": 35,
   "metadata": {},
   "outputs": [
    {
     "data": {
      "text/plain": [
       "[('march 7', 28),\n",
       " ('march 6', 32),\n",
       " None,\n",
       " None,\n",
       " ('march 1', 10),\n",
       " None,\n",
       " None,\n",
       " None,\n",
       " ('march 5', 12)]"
      ]
     },
     "execution_count": 35,
     "metadata": {},
     "output_type": "execute_result"
    }
   ],
   "source": [
    "lp.arr"
   ]
  }
 ],
 "metadata": {
  "kernelspec": {
   "display_name": "Python 3",
   "language": "python",
   "name": "python3"
  },
  "language_info": {
   "codemirror_mode": {
    "name": "ipython",
    "version": 3
   },
   "file_extension": ".py",
   "mimetype": "text/x-python",
   "name": "python",
   "nbconvert_exporter": "python",
   "pygments_lexer": "ipython3",
   "version": "3.11.4"
  },
  "orig_nbformat": 4
 },
 "nbformat": 4,
 "nbformat_minor": 2
}
